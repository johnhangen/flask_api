{
 "cells": [
  {
   "cell_type": "code",
   "execution_count": 2,
   "metadata": {},
   "outputs": [],
   "source": [
    "from flask import Flask\n",
    "from bs4 import BeautifulSoup\n",
    "from lxml import etree\n",
    "import requests\n",
    "import logging\n",
    "from urllib.error import HTTPError, URLError\n",
    "from typing import List"
   ]
  },
  {
   "cell_type": "code",
   "execution_count": 3,
   "metadata": {},
   "outputs": [],
   "source": [
    "# funtction to web scrape data\n",
    "\n",
    "def scrapeStockInfo(id:str = \"AAPL\") -> List[str]:\n",
    "    HEADERS = ({'User-Agent':\n",
    "            'Mozilla/5.0 (X11; Linux x86_64) AppleWebKit/537.36 \\\n",
    "            (KHTML, like Gecko) Chrome/44.0.2403.157 Safari/537.36',\\\n",
    "            'Accept-Language': 'en-US, en;q=0.5'}) \n",
    "\n",
    "    url = f\"https://www.cnbc.com/quotes/{id.upper()}\"\n",
    "    try:\n",
    "        site = requests.get(url, headers = HEADERS)\n",
    "    except (URLError,HTTPError) :\n",
    "        logging.error(f\"{url} unable to get requests\")\n",
    "    soup = BeautifulSoup(site.content ,'html.parser')\n",
    "    dom = etree.HTML(str(soup))\n",
    "    stockInfo = [dom.xpath('//*[@id=\"quote-page-strip\"]/div[1]/h1/span[1]')[0].text,\n",
    "        dom.xpath('//*[@id=\"quote-page-strip\"]/div[3]/div[1]/div[2]/span[1]')[0].text]\n",
    "    if (stockInfo[0] == None or stockInfo[1] == None):\n",
    "        logging.error(\"xpath not working correctly\")\n",
    "    return stockInfo"
   ]
  },
  {
   "cell_type": "code",
   "execution_count": 73,
   "metadata": {},
   "outputs": [],
   "source": [
    "def main():\n"
   ]
  },
  {
   "cell_type": "code",
   "execution_count": 4,
   "metadata": {},
   "outputs": [],
   "source": [
    "app = Flask(__name__)\n",
    "\n",
    "@app.route(\"/\")\n",
    "def stockAPI():\n",
    "    return \"<p>Hello, World!</p>\""
   ]
  },
  {
   "cell_type": "code",
   "execution_count": null,
   "metadata": {},
   "outputs": [],
   "source": []
  }
 ],
 "metadata": {
  "kernelspec": {
   "display_name": "Python 3.8.5 ('base')",
   "language": "python",
   "name": "python3"
  },
  "language_info": {
   "codemirror_mode": {
    "name": "ipython",
    "version": 3
   },
   "file_extension": ".py",
   "mimetype": "text/x-python",
   "name": "python",
   "nbconvert_exporter": "python",
   "pygments_lexer": "ipython3",
   "version": "3.8.5"
  },
  "orig_nbformat": 4,
  "vscode": {
   "interpreter": {
    "hash": "de1755e9ddc0d49fec50515e76c55537771bb8f0c69bd0fbd5247be994766231"
   }
  }
 },
 "nbformat": 4,
 "nbformat_minor": 2
}
